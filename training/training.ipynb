{
 "cells": [
  {
   "cell_type": "code",
   "execution_count": 14,
   "metadata": {},
   "outputs": [
    {
     "name": "stdout",
     "output_type": "stream",
     "text": [
      "[PhysicalDevice(name='/physical_device:GPU:0', device_type='GPU')]\n"
     ]
    }
   ],
   "source": [
    "import json\n",
    "import os\n",
    "import cv2\n",
    "import numpy as np\n",
    "\n",
    "from concurrent.futures import ThreadPoolExecutor, as_completed\n",
    "\n",
    "os.environ['TF_CPP_MIN_LOG_LEVEL'] = '3'\n",
    "\n",
    "from tensorflow.keras import layers, models\n",
    "from tensorflow.keras.utils import plot_model\n",
    "import tensorflow_models as tfm\n",
    "import tensorflow_hub as hub\n",
    "import tensorflow as tf\n",
    "\n",
    "from model import create_vit_layer\n",
    "\n",
    "gpus = tf.config.list_physical_devices('GPU')\n",
    "print(gpus)\n",
    "if gpus:\n",
    "    try:\n",
    "        for gpu in gpus:\n",
    "            tf.config.experimental.set_memory_growth(gpu, True)\n",
    "    except RuntimeError as e:\n",
    "        print(e)"
   ]
  },
  {
   "cell_type": "code",
   "execution_count": null,
   "metadata": {},
   "outputs": [],
   "source": [
    "data_dir = './data/dfdc_train_part_0'\n",
    "metadata_path = os.path.join(data_dir, 'metadata.json')\n",
    "frames_dir  = os.path.join(data_dir, 'frames')\n",
    "faces_dir = os.path.join(data_dir, 'cropped_faces')\n",
    "\n",
    "# Load metadata\n",
    "with open(metadata_path, 'r') as f:\n",
    "    metadata = json.load(f)"
   ]
  },
  {
   "cell_type": "code",
   "execution_count": null,
   "metadata": {},
   "outputs": [],
   "source": [
    "# Getting Dataset\n",
    "\n",
    "def load_frames_from_video(video_dir, num_frames=10, img_size=(224, 224)):\n",
    "    frames = []\n",
    "    frame_files = sorted([os.path.join(video_dir, img) for img in os.listdir(video_dir) if img.endswith('.jpg') or img.endswith('.png')])\n",
    "    \n",
    "    for img_path in frame_files[:num_frames]:\n",
    "        img = tf.keras.preprocessing.image.load_img(img_path, target_size=img_size)\n",
    "        img = tf.keras.preprocessing.image.img_to_array(img)\n",
    "        frames.append(img)\n",
    "    \n",
    "    return tf.stack(frames)\n",
    "\n",
    "def create_dataset(file_names, labels, base_path, num_frames=10, img_size=(224, 224)):\n",
    "    def generator():\n",
    "        for file_name, label in zip(file_names, labels):\n",
    "            video_dir = os.path.join(base_path, file_name.replace('.mp4', ''))\n",
    "            if os.path.exists(video_dir):\n",
    "                frames = load_frames_from_video(video_dir, num_frames, img_size)\n",
    "                yield frames, label\n",
    "\n",
    "    dataset = tf.data.Dataset.from_generator(\n",
    "        generator,\n",
    "        output_signature=(\n",
    "            tf.TensorSpec(shape=(num_frames, *img_size, 3), dtype=tf.float32),\n",
    "            tf.TensorSpec(shape=(), dtype=tf.int64)\n",
    "        )\n",
    "    )\n",
    "    return dataset"
   ]
  },
  {
   "cell_type": "code",
   "execution_count": null,
   "metadata": {},
   "outputs": [],
   "source": [
    "file_names = []\n",
    "labels = []\n",
    "for key, value in metadata.items():\n",
    "    file_names.append(key)\n",
    "    labels.append(1 if value['label'] == 'FAKE' else 0)"
   ]
  },
  {
   "cell_type": "code",
   "execution_count": null,
   "metadata": {},
   "outputs": [],
   "source": [
    "train_dataset = create_dataset(file_names=file_names, labels=labels, base_path=frames_dir)\n",
    "train_dataset = train_dataset.repeat().batch(8).prefetch(tf.data.AUTOTUNE)"
   ]
  },
  {
   "cell_type": "code",
   "execution_count": null,
   "metadata": {},
   "outputs": [],
   "source": [
    "def create_vit_lstm_model(input_shape, frames, num_classes):\n",
    "    # Input for video frames (e.g., batch_size, time_steps, height, width, channels)\n",
    "    video_input = layers.Input(shape=(frames, *input_shape))\n",
    "    \n",
    "    # TimeDistributed layer to apply the ViT model to each frame\n",
    "    vit_layer = create_vit_layer(input_shape)\n",
    "    processed_frames = layers.TimeDistributed(vit_layer)(video_input)\n",
    "    \n",
    "    # LSTM layer to process sequences of extracted features\n",
    "    lstm_out = layers.LSTM(128, return_sequences=False)(processed_frames)\n",
    "    \n",
    "    # Fully connected layer\n",
    "    dense_out = layers.Dense(64, activation='relu')(lstm_out)\n",
    "    dense_out = layers.Dropout(0.5)(dense_out)\n",
    "    \n",
    "    # Output layer\n",
    "    output = layers.Dense(num_classes, activation='softmax')(dense_out)\n",
    "    \n",
    "    # Define the model\n",
    "    model = models.Model(inputs=video_input, outputs=output)\n",
    "    \n",
    "    return model"
   ]
  },
  {
   "cell_type": "code",
   "execution_count": null,
   "metadata": {},
   "outputs": [],
   "source": [
    "input_shape = (224, 224, 3)\n",
    "frames = 10\n",
    "num_classes = 2\n",
    "\n",
    "model = create_vit_lstm_model(input_shape, frames, num_classes)\n",
    "print(\"Model Created\")\n",
    "\n",
    "# Compile the model\n",
    "model.compile(optimizer='adam',\n",
    "              loss='sparse_categorical_crossentropy',\n",
    "              metrics=['accuracy'])\n",
    "print(\"Model Compiled\")\n",
    "\n",
    "\n",
    "model.summary()\n",
    "plot_model(model, to_file='model_plot.png', show_shapes=True, show_layer_names=True)"
   ]
  },
  {
   "cell_type": "code",
   "execution_count": 11,
   "metadata": {},
   "outputs": [
    {
     "name": "stdout",
     "output_type": "stream",
     "text": [
      "\u001b[1m100/100\u001b[0m \u001b[32m━━━━━━━━━━━━━━━━━━━━\u001b[0m\u001b[37m\u001b[0m \u001b[1m298s\u001b[0m 3s/step - accuracy: 0.9475 - loss: 0.2206\n",
      "Epoch 4/10\n",
      "\u001b[1m100/100\u001b[0m \u001b[32m━━━━━━━━━━━━━━━━━━━━\u001b[0m\u001b[37m\u001b[0m \u001b[1m297s\u001b[0m 3s/step - accuracy: 0.9314 - loss: 0.2779\n",
      "Epoch 5/10\n",
      "\u001b[1m100/100\u001b[0m \u001b[32m━━━━━━━━━━━━━━━━━━━━\u001b[0m\u001b[37m\u001b[0m \u001b[1m298s\u001b[0m 3s/step - accuracy: 0.9366 - loss: 0.2491\n",
      "Epoch 6/10\n",
      "\u001b[1m100/100\u001b[0m \u001b[32m━━━━━━━━━━━━━━━━━━━━\u001b[0m\u001b[37m\u001b[0m \u001b[1m297s\u001b[0m 3s/step - accuracy: 0.9275 - loss: 0.2659\n",
      "Epoch 7/10\n",
      "\u001b[1m100/100\u001b[0m \u001b[32m━━━━━━━━━━━━━━━━━━━━\u001b[0m\u001b[37m\u001b[0m \u001b[1m297s\u001b[0m 3s/step - accuracy: 0.9340 - loss: 0.2581\n",
      "Epoch 8/10\n",
      "\u001b[1m100/100\u001b[0m \u001b[32m━━━━━━━━━━━━━━━━━━━━\u001b[0m\u001b[37m\u001b[0m \u001b[1m297s\u001b[0m 3s/step - accuracy: 0.9479 - loss: 0.2253\n",
      "Epoch 9/10\n",
      "\u001b[1m100/100\u001b[0m \u001b[32m━━━━━━━━━━━━━━━━━━━━\u001b[0m\u001b[37m\u001b[0m \u001b[1m297s\u001b[0m 3s/step - accuracy: 0.9325 - loss: 0.2573\n",
      "Epoch 10/10\n",
      "\u001b[1m100/100\u001b[0m \u001b[32m━━━━━━━━━━━━━━━━━━━━\u001b[0m\u001b[37m\u001b[0m \u001b[1m298s\u001b[0m 3s/step - accuracy: 0.9372 - loss: 0.2440\n"
     ]
    }
   ],
   "source": [
    "# Train the model\n",
    "model.fit(train_dataset, epochs=10, steps_per_epoch=100)\n",
    "model.save('./models/2_vit_lstm/model.keras')"
   ]
  },
  {
   "cell_type": "code",
   "execution_count": 15,
   "metadata": {},
   "outputs": [
    {
     "ename": "ImportError",
     "evalue": "cannot import name 'RandomFlip' from 'tensorflow.keras.preprocessing' (/home/blank/miniconda3/envs/tf/lib/python3.10/site-packages/keras/_tf_keras/keras/preprocessing/__init__.py)",
     "output_type": "error",
     "traceback": [
      "\u001b[0;31m---------------------------------------------------------------------------\u001b[0m",
      "\u001b[0;31mImportError\u001b[0m                               Traceback (most recent call last)",
      "Cell \u001b[0;32mIn[15], line 1\u001b[0m\n\u001b[0;32m----> 1\u001b[0m \u001b[38;5;28;01mfrom\u001b[39;00m \u001b[38;5;21;01mtensorflow\u001b[39;00m\u001b[38;5;21;01m.\u001b[39;00m\u001b[38;5;21;01mkeras\u001b[39;00m\u001b[38;5;21;01m.\u001b[39;00m\u001b[38;5;21;01mpreprocessing\u001b[39;00m \u001b[38;5;28;01mimport\u001b[39;00m  RandomFlip, RandomRotation\n\u001b[1;32m      2\u001b[0m data_augmentation \u001b[38;5;241m=\u001b[39m tf\u001b[38;5;241m.\u001b[39mkeras\u001b[38;5;241m.\u001b[39mSequential([\n\u001b[1;32m      3\u001b[0m     RandomFlip(\u001b[38;5;124m\"\u001b[39m\u001b[38;5;124mhorizontal_and_vertical\u001b[39m\u001b[38;5;124m\"\u001b[39m),\n\u001b[1;32m      4\u001b[0m     RandomRotation(\u001b[38;5;241m0.2\u001b[39m),\n\u001b[1;32m      5\u001b[0m ])\n",
      "\u001b[0;31mImportError\u001b[0m: cannot import name 'RandomFlip' from 'tensorflow.keras.preprocessing' (/home/blank/miniconda3/envs/tf/lib/python3.10/site-packages/keras/_tf_keras/keras/preprocessing/__init__.py)"
     ]
    }
   ],
   "source": [
    "from tensorflow.keras.layers import  RandomFlip, RandomRotation\n",
    "data_augmentation = tf.keras.Sequential([\n",
    "    RandomFlip(\"horizontal_and_vertical\"),\n",
    "    RandomRotation(0.2),\n",
    "])"
   ]
  },
  {
   "cell_type": "code",
   "execution_count": null,
   "metadata": {},
   "outputs": [],
   "source": [
    "def create_vit_lstm_model(input_shape, frames, num_classes):\n",
    "    video_input = layers.Input(shape=(frames, *input_shape))\n",
    "    \n",
    "    # Data Augmentation\n",
    "    augmented_frames = layers.TimeDistributed(data_augmentation)(video_input)\n",
    "    \n",
    "    # ViT with more complexity\n",
    "    vit_layer = create_vit_layer(input_shape)\n",
    "    processed_frames = layers.TimeDistributed(vit_layer)(augmented_frames)\n",
    "    \n",
    "    # Bidirectional LSTM with Attention\n",
    "    lstm_out = layers.Bidirectional(layers.LSTM(128, return_sequences=True))(processed_frames)\n",
    "    attention = layers.Attention()([lstm_out, lstm_out])\n",
    "    lstm_out = layers.GlobalAveragePooling1D()(attention)\n",
    "    \n",
    "    # Fully connected layer\n",
    "    dense_out = layers.Dense(128, activation='relu')(lstm_out)\n",
    "    dense_out = layers.Dropout(0.5)(dense_out)\n",
    "    \n",
    "    # Output layer\n",
    "    output = layers.Dense(num_classes, activation='softmax')(dense_out)\n",
    "    \n",
    "    # Define the model\n",
    "    model = models.Model(inputs=video_input, outputs=output)\n",
    "    \n",
    "    return model"
   ]
  },
  {
   "cell_type": "code",
   "execution_count": null,
   "metadata": {},
   "outputs": [],
   "source": [
    "input_shape = (224, 224, 3)\n",
    "frames = 10\n",
    "num_classes = 2\n",
    "\n",
    "model = create_vit_lstm_model(input_shape, frames, num_classes)\n",
    "print(\"Model Created\")\n",
    "\n",
    "# Compile the model\n",
    "model.compile(optimizer='adam',\n",
    "              loss='sparse_categorical_crossentropy',\n",
    "              metrics=['accuracy'])\n",
    "print(\"Model Compiled\")\n",
    "\n",
    "\n",
    "model.summary()\n",
    "plot_model(model, to_file='model_plot_2.png', show_shapes=True, show_layer_names=True)"
   ]
  },
  {
   "cell_type": "code",
   "execution_count": null,
   "metadata": {},
   "outputs": [],
   "source": [
    "# Train the model\n",
    "model.fit(train_dataset, epochs=10, steps_per_epoch=100)\n",
    "model.save('./models/3_blstm_augmentation/model.keras')"
   ]
  }
 ],
 "metadata": {
  "kernelspec": {
   "display_name": "tf",
   "language": "python",
   "name": "python3"
  },
  "language_info": {
   "codemirror_mode": {
    "name": "ipython",
    "version": 3
   },
   "file_extension": ".py",
   "mimetype": "text/x-python",
   "name": "python",
   "nbconvert_exporter": "python",
   "pygments_lexer": "ipython3",
   "version": "3.10.14"
  }
 },
 "nbformat": 4,
 "nbformat_minor": 2
}
