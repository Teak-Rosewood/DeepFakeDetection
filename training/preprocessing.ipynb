{
 "cells": [
  {
   "cell_type": "code",
   "execution_count": 1,
   "metadata": {},
   "outputs": [
    {
     "name": "stdout",
     "output_type": "stream",
     "text": [
      "[PhysicalDevice(name='/physical_device:GPU:0', device_type='GPU')]\n"
     ]
    },
    {
     "name": "stderr",
     "output_type": "stream",
     "text": [
      "WARNING: All log messages before absl::InitializeLog() is called are written to STDERR\n",
      "I0000 00:00:1725248151.912880  419551 cuda_executor.cc:1015] successful NUMA node read from SysFS had negative value (-1), but there must be at least one NUMA node, so returning NUMA node zero. See more at https://github.com/torvalds/linux/blob/v6.0/Documentation/ABI/testing/sysfs-bus-pci#L344-L355\n",
      "I0000 00:00:1725248151.939887  419551 cuda_executor.cc:1015] successful NUMA node read from SysFS had negative value (-1), but there must be at least one NUMA node, so returning NUMA node zero. See more at https://github.com/torvalds/linux/blob/v6.0/Documentation/ABI/testing/sysfs-bus-pci#L344-L355\n",
      "I0000 00:00:1725248151.940046  419551 cuda_executor.cc:1015] successful NUMA node read from SysFS had negative value (-1), but there must be at least one NUMA node, so returning NUMA node zero. See more at https://github.com/torvalds/linux/blob/v6.0/Documentation/ABI/testing/sysfs-bus-pci#L344-L355\n"
     ]
    }
   ],
   "source": [
    "import json\n",
    "import os\n",
    "import cv2\n",
    "from multiprocessing import Pool, cpu_count\n",
    "from concurrent.futures import ThreadPoolExecutor\n",
    "os.environ['TF_CPP_MIN_LOG_LEVEL'] = '3'\n",
    "import tensorflow as tf\n",
    "print(tf.config.list_physical_devices('GPU'))"
   ]
  },
  {
   "cell_type": "code",
   "execution_count": 3,
   "metadata": {},
   "outputs": [],
   "source": [
    "data_dir = './data/dfdc_train_part_02'\n",
    "metadata_path = os.path.join(data_dir, 'metadata.json')\n",
    "frames_dir  = os.path.join(data_dir, 'frames')\n",
    "faces_dir = os.path.join(data_dir, 'cropped_faces')\n",
    "\n",
    "# Load metadata\n",
    "with open(metadata_path, 'r') as f:\n",
    "    metadata = json.load(f)"
   ]
  },
  {
   "cell_type": "code",
   "execution_count": 4,
   "metadata": {},
   "outputs": [],
   "source": [
    "# Preprocessing - Extract frames from videos\n",
    "\n",
    "def extract_frames_single_video(args):\n",
    "    video_path, output_dir, fps = args\n",
    "    video_name = os.path.splitext(os.path.basename(video_path))[0]\n",
    "    output_video_dir = os.path.join(output_dir, video_name)\n",
    "    \n",
    "    if not os.path.exists(output_video_dir):\n",
    "        os.makedirs(output_video_dir)\n",
    "    \n",
    "    vidcap = cv2.VideoCapture(video_path)\n",
    "    success, image = vidcap.read()\n",
    "    count = 0\n",
    "    while success:\n",
    "        if count % fps == 0:\n",
    "            frame_id = int(count / fps)\n",
    "            cv2.imwrite(os.path.join(output_video_dir, f\"frame_{frame_id}.jpg\"), image)\n",
    "        success, image = vidcap.read()\n",
    "        count += 1\n",
    "\n",
    "def extract_frames_parallel(video_dir, output_dir, fps=1):\n",
    "    video_files = [os.path.join(video_dir, f) for f in os.listdir(video_dir) if f.endswith('.mp4')]\n",
    "    args = [(video, output_dir, fps) for video in video_files]\n",
    "\n",
    "    with Pool(cpu_count()) as pool:\n",
    "        pool.map(extract_frames_single_video, args)\n",
    "\n",
    "extract_frames_parallel(video_dir=data_dir, output_dir=frames_dir, fps=2)"
   ]
  },
  {
   "cell_type": "code",
   "execution_count": null,
   "metadata": {},
   "outputs": [],
   "source": []
  }
 ],
 "metadata": {
  "kernelspec": {
   "display_name": "base",
   "language": "python",
   "name": "python3"
  },
  "language_info": {
   "codemirror_mode": {
    "name": "ipython",
    "version": 3
   },
   "file_extension": ".py",
   "mimetype": "text/x-python",
   "name": "python",
   "nbconvert_exporter": "python",
   "pygments_lexer": "ipython3",
   "version": "3.10.14"
  }
 },
 "nbformat": 4,
 "nbformat_minor": 2
}
