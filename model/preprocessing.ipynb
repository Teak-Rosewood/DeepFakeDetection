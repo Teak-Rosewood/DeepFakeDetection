{
 "cells": [
  {
   "cell_type": "code",
   "execution_count": 1,
   "metadata": {},
   "outputs": [
    {
     "name": "stdout",
     "output_type": "stream",
     "text": [
      "[PhysicalDevice(name='/physical_device:GPU:0', device_type='GPU')]\n"
     ]
    },
    {
     "name": "stderr",
     "output_type": "stream",
     "text": [
      "WARNING: All log messages before absl::InitializeLog() is called are written to STDERR\n",
      "I0000 00:00:1725158060.989705 2411579 cuda_executor.cc:1015] successful NUMA node read from SysFS had negative value (-1), but there must be at least one NUMA node, so returning NUMA node zero. See more at https://github.com/torvalds/linux/blob/v6.0/Documentation/ABI/testing/sysfs-bus-pci#L344-L355\n",
      "I0000 00:00:1725158061.015924 2411579 cuda_executor.cc:1015] successful NUMA node read from SysFS had negative value (-1), but there must be at least one NUMA node, so returning NUMA node zero. See more at https://github.com/torvalds/linux/blob/v6.0/Documentation/ABI/testing/sysfs-bus-pci#L344-L355\n",
      "I0000 00:00:1725158061.016079 2411579 cuda_executor.cc:1015] successful NUMA node read from SysFS had negative value (-1), but there must be at least one NUMA node, so returning NUMA node zero. See more at https://github.com/torvalds/linux/blob/v6.0/Documentation/ABI/testing/sysfs-bus-pci#L344-L355\n"
     ]
    }
   ],
   "source": [
    "import json\n",
    "import os\n",
    "import cv2\n",
    "from multiprocessing import Pool, cpu_count\n",
    "from concurrent.futures import ThreadPoolExecutor\n",
    "os.environ['TF_CPP_MIN_LOG_LEVEL'] = '3'\n",
    "import tensorflow as tf\n",
    "print(tf.config.list_physical_devices('GPU'))\n",
    "from mtcnn.mtcnn import MTCNN"
   ]
  },
  {
   "cell_type": "code",
   "execution_count": 2,
   "metadata": {},
   "outputs": [],
   "source": [
    "data_dir = './data/dfdc_train_part_0'\n",
    "metadata_path = os.path.join(data_dir, 'metadata.json')\n",
    "frames_dir  = os.path.join(data_dir, 'frames')\n",
    "faces_dir = os.path.join(data_dir, 'cropped_faces')\n",
    "\n",
    "# Load metadata\n",
    "with open(metadata_path, 'r') as f:\n",
    "    metadata = json.load(f)"
   ]
  },
  {
   "cell_type": "code",
   "execution_count": 13,
   "metadata": {},
   "outputs": [],
   "source": [
    "# Preprocessing - Extract frames from videos\n",
    "\n",
    "def extract_frames_single_video(args):\n",
    "    video_path, output_dir, fps = args\n",
    "    video_name = os.path.splitext(os.path.basename(video_path))[0]\n",
    "    output_video_dir = os.path.join(output_dir, video_name)\n",
    "    \n",
    "    if not os.path.exists(output_video_dir):\n",
    "        os.makedirs(output_video_dir)\n",
    "    \n",
    "    vidcap = cv2.VideoCapture(video_path)\n",
    "    success, image = vidcap.read()\n",
    "    count = 0\n",
    "    while success:\n",
    "        if count % fps == 0:\n",
    "            frame_id = int(count / fps)\n",
    "            cv2.imwrite(os.path.join(output_video_dir, f\"frame_{frame_id}.jpg\"), image)\n",
    "        success, image = vidcap.read()\n",
    "        count += 1\n",
    "\n",
    "def extract_frames_parallel(video_dir, output_dir, fps=1):\n",
    "    video_files = [os.path.join(video_dir, f) for f in os.listdir(video_dir) if f.endswith('.mp4')]\n",
    "    args = [(video, output_dir, fps) for video in video_files]\n",
    "\n",
    "    with Pool(cpu_count()) as pool:\n",
    "        pool.map(extract_frames_single_video, args)\n",
    "\n",
    "extract_frames_parallel(video_dir=data_dir, output_dir=frames_dir, fps=10)"
   ]
  },
  {
   "cell_type": "code",
   "execution_count": 14,
   "metadata": {},
   "outputs": [],
   "source": [
    "import absl.logging\n",
    "absl.logging.set_verbosity(absl.logging.ERROR)\n",
    "import shutil"
   ]
  },
  {
   "cell_type": "code",
   "execution_count": null,
   "metadata": {},
   "outputs": [],
   "source": [
    "def organize_frames(metadata, frames_dir, output_dir):\n",
    "    if not os.path.exists(output_dir):\n",
    "        os.makedirs(output_dir)\n",
    "    \n",
    "    real_dir = os.path.join(output_dir, 'real')\n",
    "    fake_dir = os.path.join(output_dir, 'fake')\n",
    "\n",
    "    if not os.path.exists(real_dir):\n",
    "        os.makedirs(real_dir)\n",
    "    \n",
    "    if not os.path.exists(fake_dir):\n",
    "        os.makedirs(fake_dir)\n",
    "\n",
    "    for video_filename, details in metadata.items():\n",
    "        label = details['label']\n",
    "        video_name = os.path.splitext(video_filename)[0]\n",
    "        video_frames_dir = os.path.join(frames_dir, video_name)\n",
    "\n",
    "        if not os.path.exists(video_frames_dir):\n",
    "            continue  # Skip if frames directory does not exist\n",
    "        \n",
    "        target_dir = real_dir if label == 'REAL' else fake_dir\n",
    "\n",
    "        # Move or copy frames to target directory\n",
    "        for frame in os.listdir(video_frames_dir):\n",
    "            frame_path = os.path.join(video_frames_dir, frame)\n",
    "            shutil.copy(frame_path, target_dir)\n",
    "\n",
    "# Call the function to organize frames\n",
    "organize_frames(metadata, frames_dir, output_dir)"
   ]
  },
  {
   "cell_type": "code",
   "execution_count": null,
   "metadata": {},
   "outputs": [],
   "source": [
    "cv2.destroyAllWindows()"
   ]
  },
  {
   "cell_type": "code",
   "execution_count": 2,
   "metadata": {},
   "outputs": [
    {
     "ename": "NameError",
     "evalue": "name 'metadata' is not defined",
     "output_type": "error",
     "traceback": [
      "\u001b[0;31m---------------------------------------------------------------------------\u001b[0m",
      "\u001b[0;31mNameError\u001b[0m                                 Traceback (most recent call last)",
      "Cell \u001b[0;32mIn[2], line 1\u001b[0m\n\u001b[0;32m----> 1\u001b[0m \u001b[38;5;28;01mfor\u001b[39;00m key, value \u001b[38;5;129;01min\u001b[39;00m \u001b[43mmetadata\u001b[49m\u001b[38;5;241m.\u001b[39mitems():\n\u001b[1;32m      2\u001b[0m     \u001b[38;5;28mprint\u001b[39m(os\u001b[38;5;241m.\u001b[39mpath\u001b[38;5;241m.\u001b[39msplitext(key)[\u001b[38;5;241m0\u001b[39m])\n\u001b[1;32m      3\u001b[0m     \u001b[38;5;28mprint\u001b[39m(value)\n",
      "\u001b[0;31mNameError\u001b[0m: name 'metadata' is not defined"
     ]
    }
   ],
   "source": [
    "for key, value in metadata.items():\n",
    "    print(os.path.splitext(key)[0])\n",
    "    print(value)\n",
    "    break"
   ]
  },
  {
   "cell_type": "code",
   "execution_count": 3,
   "metadata": {},
   "outputs": [],
   "source": [
    "file_names = []\n",
    "labels = []\n",
    "\n",
    "for key, value in metadata.items():\n",
    "    file_names.append(key)\n",
    "    labels.append(1 if value['label'] == 'FAKE' else 0)"
   ]
  },
  {
   "cell_type": "code",
   "execution_count": null,
   "metadata": {},
   "outputs": [],
   "source": [
    "def load_frames_from_video(video_dir, num_frames=10, img_size=(224, 224)):\n",
    "    frames = []\n",
    "    frame_files = sorted([os.path.join(video_dir, img) for img in os.listdir(video_dir) if img.endswith('.jpg') or img.endswith('.png')])\n",
    "    \n",
    "    for img_path in frame_files[:num_frames]:\n",
    "        img = tf.keras.preprocessing.image.load_img(img_path, target_size=img_size)\n",
    "        img = tf.keras.preprocessing.image.img_to_array(img)\n",
    "        img = tf.keras.applications.vit(img)  # Apply appropriate preprocessing\n",
    "        frames.append(img)\n",
    "    \n",
    "    return tf.stack(frames)\n",
    "\n",
    "def create_dataset(file_names, labels, base_path, num_frames=10, img_size=(224, 224)):\n",
    "    videos, labels_out = [], []\n",
    "    \n",
    "    for file_name, label in zip(file_names, labels):\n",
    "        video_dir = os.path.join(base_path, file_name.replace('.mp4', ''))\n",
    "        if os.path.exists(video_dir):\n",
    "            frames = load_frames_from_video(video_dir, num_frames, img_size)\n",
    "            videos.append(frames)\n",
    "            labels_out.append(label)\n",
    "    \n",
    "    return tf.data.Dataset.from_tensor_slices((tf.convert_to_tensor(videos), tf.convert_to_tensor(labels_out)))\n",
    "\n",
    "# Define paths\n",
    "base_path = 'path_to_frames_folder/frames'\n",
    "\n",
    "# Create the datasets\n",
    "train_dataset = create_dataset(train_files, train_labels, base_path)\n",
    "val_dataset = create_dataset(val_files, val_labels, base_path)"
   ]
  },
  {
   "cell_type": "markdown",
   "metadata": {},
   "source": []
  },
  {
   "cell_type": "code",
   "execution_count": null,
   "metadata": {},
   "outputs": [],
   "source": [
    "import tensorflow_models as tfm\n",
    "tfm.vision.backbones.VisionTransformer(\n",
    "    input_specs=tf.keras.layers.InputSpec(shape=[None, None, None, 3]),\n",
    "    patch_size=16,\n",
    "    hidden_size=768,\n",
    "    num_layers=12,\n",
    "    num_heads=12,\n",
    ")"
   ]
  }
 ],
 "metadata": {
  "kernelspec": {
   "display_name": "base",
   "language": "python",
   "name": "python3"
  },
  "language_info": {
   "codemirror_mode": {
    "name": "ipython",
    "version": 3
   },
   "file_extension": ".py",
   "mimetype": "text/x-python",
   "name": "python",
   "nbconvert_exporter": "python",
   "pygments_lexer": "ipython3",
   "version": "3.9.19"
  }
 },
 "nbformat": 4,
 "nbformat_minor": 2
}
